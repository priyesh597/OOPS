{
 "cells": [
  {
   "cell_type": "code",
   "execution_count": 13,
   "id": "a59a981c",
   "metadata": {},
   "outputs": [],
   "source": [
    "class User:\n",
    "    \n",
    "    def login(self):\n",
    "        print(\"login\")\n",
    "        \n",
    "    def register(self):\n",
    "        print(\"register\")"
   ]
  },
  {
   "cell_type": "code",
   "execution_count": 14,
   "id": "6f4e7c63",
   "metadata": {},
   "outputs": [],
   "source": [
    "class Student(User):\n",
    "    \n",
    "    def enroll(self):\n",
    "        print(\"enroll\")\n",
    "        \n",
    "    def review(self):\n",
    "        print(\"review\")"
   ]
  },
  {
   "cell_type": "code",
   "execution_count": 15,
   "id": "ce8206be",
   "metadata": {},
   "outputs": [],
   "source": [
    "stu1 = Student()"
   ]
  },
  {
   "cell_type": "code",
   "execution_count": 16,
   "id": "42e6bc50",
   "metadata": {},
   "outputs": [
    {
     "name": "stdout",
     "output_type": "stream",
     "text": [
      "enroll\n",
      "review\n",
      "login\n",
      "register\n"
     ]
    }
   ],
   "source": [
    "stu1.enroll()\n",
    "stu1.review()\n",
    "stu1.login()\n",
    "stu1.register()"
   ]
  },
  {
   "cell_type": "code",
   "execution_count": 19,
   "id": "6f49248d",
   "metadata": {},
   "outputs": [
    {
     "name": "stdout",
     "output_type": "stream",
     "text": [
      "Inside phone constructor\n"
     ]
    }
   ],
   "source": [
    "class Phone:\n",
    "    def __init__(self,price,brand,camera):\n",
    "        print('Inside phone constructor')\n",
    "        self.price = price\n",
    "        self.brand = brand\n",
    "        self.camera = camera\n",
    "        \n",
    "class SmartPhone(Phone):\n",
    "    pass\n",
    "\n",
    "s = SmartPhone(20000,\"Apple\",13)"
   ]
  },
  {
   "cell_type": "code",
   "execution_count": 20,
   "id": "1c45f52e",
   "metadata": {},
   "outputs": [
    {
     "name": "stdout",
     "output_type": "stream",
     "text": [
      "Apple\n"
     ]
    }
   ],
   "source": [
    "print(s.brand)"
   ]
  },
  {
   "cell_type": "code",
   "execution_count": 24,
   "id": "fd098893",
   "metadata": {},
   "outputs": [],
   "source": [
    "class Phone:\n",
    "    def __init__(self,price,brand,camera):\n",
    "        print('Inside phone constructor')\n",
    "        self.price = price\n",
    "        self.brand = brand\n",
    "        self.camera = camera\n",
    "        \n",
    "    def buy(self):\n",
    "        print(\"Buying a phone\")\n",
    "        \n",
    "class SmartPhone(Phone):\n",
    "    \n",
    "    def buy(self):\n",
    "        print(\"Buying a Smartphone\")"
   ]
  },
  {
   "cell_type": "code",
   "execution_count": 25,
   "id": "065cf055",
   "metadata": {},
   "outputs": [
    {
     "name": "stdout",
     "output_type": "stream",
     "text": [
      "Inside phone constructor\n",
      "MI\n"
     ]
    }
   ],
   "source": [
    "s = SmartPhone(20000,\"MI\",13)\n",
    "print(s.brand)"
   ]
  },
  {
   "cell_type": "code",
   "execution_count": null,
   "id": "280d65d6",
   "metadata": {},
   "outputs": [],
   "source": []
  }
 ],
 "metadata": {
  "kernelspec": {
   "display_name": "Python 3",
   "language": "python",
   "name": "python3"
  },
  "language_info": {
   "codemirror_mode": {
    "name": "ipython",
    "version": 3
   },
   "file_extension": ".py",
   "mimetype": "text/x-python",
   "name": "python",
   "nbconvert_exporter": "python",
   "pygments_lexer": "ipython3",
   "version": "3.8.3"
  }
 },
 "nbformat": 4,
 "nbformat_minor": 5
}
