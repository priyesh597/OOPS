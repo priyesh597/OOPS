{
 "cells": [
  {
   "cell_type": "code",
   "execution_count": 14,
   "id": "3378e8da",
   "metadata": {},
   "outputs": [],
   "source": [
    "class Customer:\n",
    "    \n",
    "    def __init__(self,name,gender):\n",
    "        self.name = name\n",
    "        self.gender = gender"
   ]
  },
  {
   "cell_type": "code",
   "execution_count": 19,
   "id": "374ee381",
   "metadata": {},
   "outputs": [],
   "source": [
    "def greet(customer):\n",
    "    if customer.gender==\"Male\":\n",
    "        print(\"Hello\",customer.name,\"Sir\")\n",
    "    else:\n",
    "        print(\"Hello\",customer.name,\"Maam\")\n",
    "        \n",
    "    cust2 = Customer('Nitish',\"Male\")\n",
    "    \n",
    "    return cust2"
   ]
  },
  {
   "cell_type": "code",
   "execution_count": 20,
   "id": "e82acf64",
   "metadata": {},
   "outputs": [],
   "source": [
    "cust = Customer('Ankita','Female')"
   ]
  },
  {
   "cell_type": "code",
   "execution_count": 21,
   "id": "e295cad2",
   "metadata": {},
   "outputs": [
    {
     "name": "stdout",
     "output_type": "stream",
     "text": [
      "Hello Ankita Maam\n"
     ]
    },
    {
     "data": {
      "text/plain": [
       "<__main__.Customer at 0x241a728f040>"
      ]
     },
     "execution_count": 21,
     "metadata": {},
     "output_type": "execute_result"
    }
   ],
   "source": [
    "greet(cust)"
   ]
  },
  {
   "cell_type": "code",
   "execution_count": 22,
   "id": "338fbe41",
   "metadata": {},
   "outputs": [
    {
     "name": "stdout",
     "output_type": "stream",
     "text": [
      "Hello Ankita Maam\n",
      "Nitish\n"
     ]
    }
   ],
   "source": [
    "new_cust = greet(cust)\n",
    "print(new_cust.name)"
   ]
  },
  {
   "cell_type": "code",
   "execution_count": 30,
   "id": "47c23e60",
   "metadata": {},
   "outputs": [],
   "source": [
    "class Customer:\n",
    "    \n",
    "    def __init__(self,name):\n",
    "        self.name = name"
   ]
  },
  {
   "cell_type": "code",
   "execution_count": 33,
   "id": "e08f35a5",
   "metadata": {},
   "outputs": [],
   "source": [
    "def greet(customer):\n",
    "    print(id(customer))\n",
    "    customer.name = \"Nitish\"\n",
    "    print(customer.name)\n",
    "    print(id(customer))"
   ]
  },
  {
   "cell_type": "code",
   "execution_count": 35,
   "id": "71e2dcc7",
   "metadata": {},
   "outputs": [
    {
     "name": "stdout",
     "output_type": "stream",
     "text": [
      "2481000611552\n",
      "2481000611552\n",
      "Nitish\n",
      "2481000611552\n",
      "Nitish\n"
     ]
    }
   ],
   "source": [
    "cust = Customer('Ankita')\n",
    "print(id(cust))\n",
    "greet(cust)\n",
    "print(cust.name)"
   ]
  },
  {
   "cell_type": "code",
   "execution_count": 38,
   "id": "825fc247",
   "metadata": {},
   "outputs": [
    {
     "name": "stdout",
     "output_type": "stream",
     "text": [
      "2481000699072\n",
      "[1, 2, 3, 4]\n",
      "2481000700672\n",
      "2481000700672\n",
      "[1, 2, 3, 4]\n"
     ]
    }
   ],
   "source": [
    "def change(L):\n",
    "    print(id(L))\n",
    "    L.append(5)\n",
    "    print(id(L))\n",
    "    \n",
    "L1 = [1,2,3,4]\n",
    "print(id(L1))\n",
    "print(L1)\n",
    "\n",
    "change(L1[:])\n",
    "\n",
    "print(L1)"
   ]
  },
  {
   "cell_type": "code",
   "execution_count": 39,
   "id": "633270d5",
   "metadata": {},
   "outputs": [],
   "source": [
    "class Customer:\n",
    "    \n",
    "    def __init__(self,name,age):\n",
    "        self.name = name\n",
    "        self.age = age"
   ]
  },
  {
   "cell_type": "code",
   "execution_count": 41,
   "id": "be5223a3",
   "metadata": {},
   "outputs": [],
   "source": [
    "c1 = Customer(\"Nitish\",34)\n",
    "c2 = Customer('Ankit',29)\n",
    "c3 = Customer(\"Neha\",32)\n",
    "\n",
    "L1 = [c1,c2,c3]"
   ]
  },
  {
   "cell_type": "code",
   "execution_count": null,
   "id": "c07849ba",
   "metadata": {},
   "outputs": [],
   "source": []
  }
 ],
 "metadata": {
  "kernelspec": {
   "display_name": "Python 3",
   "language": "python",
   "name": "python3"
  },
  "language_info": {
   "codemirror_mode": {
    "name": "ipython",
    "version": 3
   },
   "file_extension": ".py",
   "mimetype": "text/x-python",
   "name": "python",
   "nbconvert_exporter": "python",
   "pygments_lexer": "ipython3",
   "version": "3.8.3"
  }
 },
 "nbformat": 4,
 "nbformat_minor": 5
}
